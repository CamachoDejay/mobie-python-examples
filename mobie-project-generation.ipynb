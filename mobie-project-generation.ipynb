{
 "cells": [
  {
   "cell_type": "code",
   "execution_count": 1,
   "metadata": {},
   "outputs": [],
   "source": [
    "# general imports\n",
    "import os\n",
    "import imageio\n",
    "import mobie"
   ]
  },
  {
   "cell_type": "code",
   "execution_count": 2,
   "metadata": {},
   "outputs": [],
   "source": [
    "# location of the input data. \n",
    "# the example data used in this notebook is available via this link:\n",
    "input_data_path = \"data/00_LM/Slide_65.tif\"\n",
    "\n",
    "# the location of the mobie project that will be created\n",
    "# we recommend that the mobie project folders have the structure <PROECJT_ROOT_FOLDER/data>\n",
    "# the folder 'data' will contain the sub-folders for individual datasets\n",
    "mobie_project_folder = \"BUILD-mobie-project/data\"\n",
    "\n",
    "# name of the dataset that will be created.\n",
    "# one project can contain multiple datasets\n",
    "dataset_name = \"LM-dataset\"\n",
    "dataset_folder = os.path.join(mobie_project_folder, dataset_name)\n",
    "\n",
    "# the platform and number of jobs used for computation.\n",
    "# choose 'local' to run computations on your machine.\n",
    "# for large data, it is also possible to run computation on a cluster;\n",
    "# for this purpose 'slurm' (for slurm cluster) and 'lsf' (for lsf cluster) are currently supported\n",
    "target = \"local\"\n",
    "max_jobs = 4"
   ]
  },
  {
   "attachments": {},
   "cell_type": "markdown",
   "metadata": {},
   "source": [
    "## Initialize the dataset\n",
    "\n",
    "First, we need to initialize the dataset. This step includes generating the top-level project folder (if it's not present already), the subfolders for the new dataset and adding the \"default\" image for this dataset.\n",
    "All these steps are performed by the function `add_image`.\n",
    "\n",
    "This function accepts input image data in different formats. The input data is specified with the arguments\n",
    "`input_path`, which specifies the file path and `input_key`, which specifies the internal path or search patterns.\n",
    "- tif images (2d or 3d) - for this option set `input_key=''`\n",
    "- folder with image files - for this option `input_key` needs to be the glob pattern for the image files, e.g `input_key='*.tif'` to load all tif files\n",
    "- hdf5 file - `input_key` needs to be the internal file path\n",
    "- n5 or zarr file - `input_key` needs to be the internal file path\n",
    "\n",
    "The input files will be copied into the project folder in the [bdv.n5 dataformat](https://github.com/bigdataviewer/bigdataviewer-core/blob/master/BDV%20N5%20format.md) and an image pyramid will be created through consecutive downsampling.\n",
    "\n",
    "To efficiently process large files the inputs should be in hdf5, n5 or zarr format.\n",
    "Note that all inputs need to be either 2d or 3d images (volumes).\n",
    "Multi-channel images (volumes) should be seperated into their channels and then each channel added individually (see `Adding image data` below)."
   ]
  },
  {
   "cell_type": "code",
   "execution_count": 3,
   "metadata": {},
   "outputs": [
    {
     "ename": "ValueError",
     "evalue": "Could not infer file type from extension .h5, because it is not in the supported extensions: .n5 .zarr .zr .mrc  .tif .tiff. You may need to install additional dependencies (h5py, z5py, zarr, intern).",
     "output_type": "error",
     "traceback": [
      "\u001b[1;31m---------------------------------------------------------------------------\u001b[0m",
      "\u001b[1;31mKeyError\u001b[0m                                  Traceback (most recent call last)",
      "File \u001b[1;32mc:\\Users\\xcamra\\anaconda3\\envs\\mobie-env\\lib\\site-packages\\elf\\io\\files.py:37\u001b[0m, in \u001b[0;36mopen_file\u001b[1;34m(path, mode, ext, **kwargs)\u001b[0m\n\u001b[0;32m     36\u001b[0m \u001b[39mtry\u001b[39;00m:\n\u001b[1;32m---> 37\u001b[0m     constructor \u001b[39m=\u001b[39m FILE_CONSTRUCTORS[ext\u001b[39m.\u001b[39;49mlower()]\n\u001b[0;32m     38\u001b[0m \u001b[39mexcept\u001b[39;00m \u001b[39mKeyError\u001b[39;00m:\n",
      "\u001b[1;31mKeyError\u001b[0m: '.h5'",
      "\nDuring handling of the above exception, another exception occurred:\n",
      "\u001b[1;31mValueError\u001b[0m                                Traceback (most recent call last)",
      "Cell \u001b[1;32mIn[3], line 28\u001b[0m\n\u001b[0;32m     25\u001b[0m chunks \u001b[39m=\u001b[39m (\u001b[39m1\u001b[39m, \u001b[39m512\u001b[39m, \u001b[39m512\u001b[39m)\n\u001b[0;32m     26\u001b[0m scale_factors \u001b[39m=\u001b[39m \u001b[39m4\u001b[39m \u001b[39m*\u001b[39m [[\u001b[39m1\u001b[39m, \u001b[39m2\u001b[39m, \u001b[39m2\u001b[39m]]\n\u001b[1;32m---> 28\u001b[0m mobie\u001b[39m.\u001b[39;49madd_image(\n\u001b[0;32m     29\u001b[0m     input_path\u001b[39m=\u001b[39;49minput_file, \n\u001b[0;32m     30\u001b[0m     input_key\u001b[39m=\u001b[39;49m\u001b[39m'\u001b[39;49m\u001b[39m'\u001b[39;49m,  \u001b[39m# the input is a single tif image, so we leave input_key blank\u001b[39;49;00m\n\u001b[0;32m     31\u001b[0m     root\u001b[39m=\u001b[39;49mmobie_project_folder,\n\u001b[0;32m     32\u001b[0m     dataset_name\u001b[39m=\u001b[39;49mdataset_name,\n\u001b[0;32m     33\u001b[0m     image_name\u001b[39m=\u001b[39;49mraw_name,\n\u001b[0;32m     34\u001b[0m     menu_name\u001b[39m=\u001b[39;49mmenu_name,\n\u001b[0;32m     35\u001b[0m     resolution\u001b[39m=\u001b[39;49mresolution,\n\u001b[0;32m     36\u001b[0m     chunks\u001b[39m=\u001b[39;49mchunks,\n\u001b[0;32m     37\u001b[0m     scale_factors\u001b[39m=\u001b[39;49mscale_factors,\n\u001b[0;32m     38\u001b[0m     is_default_dataset\u001b[39m=\u001b[39;49m\u001b[39mTrue\u001b[39;49;00m,  \u001b[39m# mark this dataset as the default dataset that will be loaded by mobie\u001b[39;49;00m\n\u001b[0;32m     39\u001b[0m     target\u001b[39m=\u001b[39;49mtarget,\n\u001b[0;32m     40\u001b[0m     max_jobs\u001b[39m=\u001b[39;49mmax_jobs,\n\u001b[0;32m     41\u001b[0m     unit\u001b[39m=\u001b[39;49munit\n\u001b[0;32m     42\u001b[0m )\n",
      "File \u001b[1;32mc:\\Users\\xcamra\\anaconda3\\envs\\mobie-env\\lib\\site-packages\\mobie\\image_data.py:234\u001b[0m, in \u001b[0;36madd_image\u001b[1;34m(input_path, input_key, root, dataset_name, image_name, resolution, scale_factors, chunks, file_format, menu_name, tmp_folder, target, max_jobs, view, transformation, unit, is_default_dataset, description, move_only, int_to_uint, channel)\u001b[0m\n\u001b[0;32m    231\u001b[0m         shutil\u001b[39m.\u001b[39mmove(os\u001b[39m.\u001b[39mpath\u001b[39m.\u001b[39msplitext(input_path)[\u001b[39m0\u001b[39m]\u001b[39m+\u001b[39m\u001b[39m\"\u001b[39m\u001b[39m.xml\u001b[39m\u001b[39m\"\u001b[39m, image_metadata_path)\n\u001b[0;32m    233\u001b[0m \u001b[39melse\u001b[39;00m:\n\u001b[1;32m--> 234\u001b[0m     import_image_data(input_path, input_key, data_path,\n\u001b[0;32m    235\u001b[0m                       resolution, scale_factors, chunks,\n\u001b[0;32m    236\u001b[0m                       tmp_folder\u001b[39m=\u001b[39;49mtmp_folder, target\u001b[39m=\u001b[39;49mtarget,\n\u001b[0;32m    237\u001b[0m                       max_jobs\u001b[39m=\u001b[39;49mmax_jobs, unit\u001b[39m=\u001b[39;49munit,\n\u001b[0;32m    238\u001b[0m                       source_name\u001b[39m=\u001b[39;49mimage_name,\n\u001b[0;32m    239\u001b[0m                       file_format\u001b[39m=\u001b[39;49mfile_format,\n\u001b[0;32m    240\u001b[0m                       int_to_uint\u001b[39m=\u001b[39;49mint_to_uint,\n\u001b[0;32m    241\u001b[0m                       channel\u001b[39m=\u001b[39;49mchannel)\n\u001b[0;32m    243\u001b[0m metadata\u001b[39m.\u001b[39madd_source_to_dataset(dataset_folder, \u001b[39m\"\u001b[39m\u001b[39mimage\u001b[39m\u001b[39m\"\u001b[39m, image_name, image_metadata_path,\n\u001b[0;32m    244\u001b[0m                                view\u001b[39m=\u001b[39mview, description\u001b[39m=\u001b[39mdescription, channel\u001b[39m=\u001b[39mchannel)\n\u001b[0;32m    246\u001b[0m \u001b[39mif\u001b[39;00m transformation \u001b[39mis\u001b[39;00m \u001b[39mnot\u001b[39;00m \u001b[39mNone\u001b[39;00m:\n",
      "File \u001b[1;32mc:\\Users\\xcamra\\anaconda3\\envs\\mobie-env\\lib\\site-packages\\mobie\\import_data\\image.py:34\u001b[0m, in \u001b[0;36mimport_image_data\u001b[1;34m(in_path, in_key, out_path, resolution, scale_factors, chunks, tmp_folder, target, max_jobs, block_shape, unit, source_name, file_format, int_to_uint, channel)\u001b[0m\n\u001b[0;32m     32\u001b[0m \u001b[39m# we allow 2d data for ome.zarr file format\u001b[39;00m\n\u001b[0;32m     33\u001b[0m \u001b[39mif\u001b[39;00m file_format \u001b[39m!=\u001b[39m \u001b[39m\"\u001b[39m\u001b[39mome.zarr\u001b[39m\u001b[39m\"\u001b[39m:\n\u001b[1;32m---> 34\u001b[0m     in_path, in_key \u001b[39m=\u001b[39m ensure_volume(in_path, in_key, tmp_folder, chunks)\n\u001b[0;32m     35\u001b[0m downscale(in_path, in_key, out_path,\n\u001b[0;32m     36\u001b[0m           resolution, scale_factors, chunks,\n\u001b[0;32m     37\u001b[0m           tmp_folder, target, max_jobs, block_shape,\n\u001b[0;32m     38\u001b[0m           library\u001b[39m=\u001b[39m\u001b[39m\"\u001b[39m\u001b[39mskimage\u001b[39m\u001b[39m\"\u001b[39m, unit\u001b[39m=\u001b[39munit, source_name\u001b[39m=\u001b[39msource_name,\n\u001b[0;32m     39\u001b[0m           metadata_format\u001b[39m=\u001b[39mfile_format, int_to_uint\u001b[39m=\u001b[39mint_to_uint,\n\u001b[0;32m     40\u001b[0m           channel\u001b[39m=\u001b[39mchannel)\n",
      "File \u001b[1;32mc:\\Users\\xcamra\\anaconda3\\envs\\mobie-env\\lib\\site-packages\\mobie\\import_data\\utils.py:160\u001b[0m, in \u001b[0;36mensure_volume\u001b[1;34m(in_path, in_key, tmp_folder, chunks)\u001b[0m\n\u001b[0;32m    157\u001b[0m tmp_key \u001b[39m=\u001b[39m \u001b[39m\"\u001b[39m\u001b[39mdata\u001b[39m\u001b[39m\"\u001b[39m\n\u001b[0;32m    159\u001b[0m os\u001b[39m.\u001b[39mmakedirs(tmp_folder, exist_ok\u001b[39m=\u001b[39m\u001b[39mTrue\u001b[39;00m)\n\u001b[1;32m--> 160\u001b[0m \u001b[39mwith\u001b[39;00m open_file(tmp_path, mode\u001b[39m=\u001b[39;49m\u001b[39m\"\u001b[39;49m\u001b[39ma\u001b[39;49m\u001b[39m\"\u001b[39;49m) \u001b[39mas\u001b[39;00m f:\n\u001b[0;32m    161\u001b[0m     f\u001b[39m.\u001b[39mcreate_dataset(tmp_key, data\u001b[39m=\u001b[39mimg[\u001b[39mNone\u001b[39;00m], chunks\u001b[39m=\u001b[39m\u001b[39mtuple\u001b[39m(chunks))\n\u001b[0;32m    162\u001b[0m \u001b[39mreturn\u001b[39;00m tmp_path, tmp_key\n",
      "File \u001b[1;32mc:\\Users\\xcamra\\anaconda3\\envs\\mobie-env\\lib\\site-packages\\elf\\io\\files.py:39\u001b[0m, in \u001b[0;36mopen_file\u001b[1;34m(path, mode, ext, **kwargs)\u001b[0m\n\u001b[0;32m     37\u001b[0m     constructor \u001b[39m=\u001b[39m FILE_CONSTRUCTORS[ext\u001b[39m.\u001b[39mlower()]\n\u001b[0;32m     38\u001b[0m \u001b[39mexcept\u001b[39;00m \u001b[39mKeyError\u001b[39;00m:\n\u001b[1;32m---> 39\u001b[0m     \u001b[39mraise\u001b[39;00m \u001b[39mValueError\u001b[39;00m(\n\u001b[0;32m     40\u001b[0m         \u001b[39mf\u001b[39m\u001b[39m\"\u001b[39m\u001b[39mCould not infer file type from extension \u001b[39m\u001b[39m{\u001b[39;00mext\u001b[39m}\u001b[39;00m\u001b[39m, \u001b[39m\u001b[39m\"\u001b[39m\n\u001b[0;32m     41\u001b[0m         \u001b[39mf\u001b[39m\u001b[39m\"\u001b[39m\u001b[39mbecause it is not in the supported extensions: \u001b[39m\u001b[39m\"\u001b[39m\n\u001b[0;32m     42\u001b[0m         \u001b[39mf\u001b[39m\u001b[39m\"\u001b[39m\u001b[39m{\u001b[39;00m\u001b[39m'\u001b[39m\u001b[39m \u001b[39m\u001b[39m'\u001b[39m\u001b[39m.\u001b[39mjoin(supported_extensions())\u001b[39m}\u001b[39;00m\u001b[39m. \u001b[39m\u001b[39m\"\u001b[39m\n\u001b[0;32m     43\u001b[0m         \u001b[39mf\u001b[39m\u001b[39m\"\u001b[39m\u001b[39mYou may need to install additional dependencies (h5py, z5py, zarr, intern).\u001b[39m\u001b[39m\"\u001b[39m\n\u001b[0;32m     44\u001b[0m     )\n\u001b[0;32m     45\u001b[0m \u001b[39mreturn\u001b[39;00m constructor(path, mode\u001b[39m=\u001b[39mmode, \u001b[39m*\u001b[39m\u001b[39m*\u001b[39mkwargs)\n",
      "\u001b[1;31mValueError\u001b[0m: Could not infer file type from extension .h5, because it is not in the supported extensions: .n5 .zarr .zr .mrc  .tif .tiff. You may need to install additional dependencies (h5py, z5py, zarr, intern)."
     ]
    }
   ],
   "source": [
    "input_data_path = \"data/00_LM\"\n",
    "# The 'default' image for our example dataset is a 2d EM slice showing an overview of the dataset.\n",
    "input_file = os.path.join(input_data_path, \"Slide_65_red.ome.tif\")\n",
    "\n",
    "# This is the name that will be given to the image source in mobie.\n",
    "raw_name = \"overview\"\n",
    "# The name of the menu from which the image can be added to the viewer.\n",
    "# Here, we choose \"em\", because this is an EM image slice.\n",
    "menu_name = \"lm\"\n",
    "\n",
    "# We need some metadata to create the n5-file in big-data-viewer format:\n",
    "# - unit: the phyiscal unit of the coordinate system\n",
    "# - resolution: the size of one voxel in the physical unit, this needs to be a tuple/list of length 3,\n",
    "#               specifying the size for each of the 3 spatial dimensions\n",
    "# - chunks: the size of the chunks (in voxels) that are used to store the output file.\n",
    "#           good choices are usually (1, 512, 512) for 2d data and (64, 64, 64) for 3d data\n",
    "# - scale_factors: the scale factors used for downsampling the input when creating the image pyramid\n",
    "#                  this needs to be a list, where each entry specifies the scale factors for the 3 axes.\n",
    "# Note that axes are listed in the order ZYX for the resolution, chunks and scale factors\n",
    "# (in the java implementation of mobie / big-data-viewer the axis convention is XYZ).\n",
    "# Also note that the values for all three axes (ZYX) need to be specified. In the case of 2d data, the value\n",
    "# for Z should be set to 1.\n",
    "unit = \"nanometer\"\n",
    "resolution = (1., 454, 454)\n",
    "chunks = (1, 512, 512)\n",
    "scale_factors = 4 * [[1, 2, 2]]\n",
    "\n",
    "mobie.add_image(\n",
    "    input_path=input_file, \n",
    "    input_key='',  # the input is a single tif image, so we leave input_key blank\n",
    "    root=mobie_project_folder,\n",
    "    dataset_name=dataset_name,\n",
    "    image_name=raw_name,\n",
    "    menu_name=menu_name,\n",
    "    resolution=resolution,\n",
    "    chunks=chunks,\n",
    "    scale_factors=scale_factors,\n",
    "    is_default_dataset=True,  # mark this dataset as the default dataset that will be loaded by mobie\n",
    "    target=target,\n",
    "    max_jobs=max_jobs,\n",
    "    unit=unit\n",
    ")"
   ]
  }
 ],
 "metadata": {
  "kernelspec": {
   "display_name": "mobie-env",
   "language": "python",
   "name": "python3"
  },
  "language_info": {
   "codemirror_mode": {
    "name": "ipython",
    "version": 3
   },
   "file_extension": ".py",
   "mimetype": "text/x-python",
   "name": "python",
   "nbconvert_exporter": "python",
   "pygments_lexer": "ipython3",
   "version": "3.9.16"
  },
  "orig_nbformat": 4,
  "vscode": {
   "interpreter": {
    "hash": "cad05208562e4e430cba88519caaedc573fd79927d0875a5b631c46e004882e2"
   }
  }
 },
 "nbformat": 4,
 "nbformat_minor": 2
}

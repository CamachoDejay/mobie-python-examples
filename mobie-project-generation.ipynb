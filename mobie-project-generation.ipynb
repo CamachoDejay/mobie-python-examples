{
 "cells": [
  {
   "cell_type": "code",
   "execution_count": 10,
   "metadata": {},
   "outputs": [],
   "source": [
    "# general imports\n",
    "import os\n",
    "import imageio\n",
    "import mobie"
   ]
  },
  {
   "cell_type": "code",
   "execution_count": 11,
   "metadata": {},
   "outputs": [],
   "source": [
    "# location of the input data. \n",
    "# the example data used in this notebook is available via this link:\n",
    "input_data_path = \"data\"\n",
    "\n",
    "# the location of the mobie project that will be created\n",
    "# we recommend that the mobie project folders have the structure <PROECJT_ROOT_FOLDER/data>\n",
    "# the folder 'data' will contain the sub-folders for individual datasets\n",
    "mobie_project_folder = \"mobie-project-01/data\"\n",
    "\n",
    "# name of the dataset that will be created.\n",
    "# one project can contain multiple datasets\n",
    "dataset_name = \"LM-dataset\"\n",
    "dataset_folder = os.path.join(mobie_project_folder, dataset_name)\n",
    "\n",
    "# the platform and number of jobs used for computation.\n",
    "# choose 'local' to run computations on your machine.\n",
    "# for large data, it is also possible to run computation on a cluster;\n",
    "# for this purpose 'slurm' (for slurm cluster) and 'lsf' (for lsf cluster) are currently supported\n",
    "target = \"local\"\n",
    "max_jobs = 4"
   ]
  },
  {
   "attachments": {},
   "cell_type": "markdown",
   "metadata": {},
   "source": [
    "## Initialize the dataset\n",
    "\n",
    "First, we need to initialize the dataset. This step includes generating the top-level project folder (if it's not present already), the subfolders for the new dataset and adding the \"default\" image for this dataset.\n",
    "All these steps are performed by the function `add_image`.\n",
    "\n",
    "This function accepts input image data in different formats. The input data is specified with the arguments\n",
    "`input_path`, which specifies the file path and `input_key`, which specifies the internal path or search patterns.\n",
    "- tif images (2d or 3d) - for this option set `input_key=''`\n",
    "- folder with image files - for this option `input_key` needs to be the glob pattern for the image files, e.g `input_key='*.tif'` to load all tif files\n",
    "- hdf5 file - `input_key` needs to be the internal file path\n",
    "- n5 or zarr file - `input_key` needs to be the internal file path\n",
    "\n",
    "The input files will be copied into the project folder in the [bdv.n5 dataformat](https://github.com/bigdataviewer/bigdataviewer-core/blob/master/BDV%20N5%20format.md) and an image pyramid will be created through consecutive downsampling.\n",
    "\n",
    "To efficiently process large files the inputs should be in hdf5, n5 or zarr format.\n",
    "Note that all inputs need to be either 2d or 3d images (volumes).\n",
    "Multi-channel images (volumes) should be seperated into their channels and then each channel added individually (see `Adding image data` below)."
   ]
  },
  {
   "cell_type": "code",
   "execution_count": 12,
   "metadata": {},
   "outputs": [
    {
     "name": "stderr",
     "output_type": "stream",
     "text": [
      "DEBUG: Checking if DownscalingWorkflow(tmp_folder=tmp_LM-dataset_overview, max_jobs=4, config_dir=tmp_LM-dataset_overview\\configs, target=local, dependency=DummyTask, input_path=tmp_LM-dataset_overview\\tmp_blobs.ome.h5, input_key=data, scale_factors=[[1, 2, 2], [1, 2, 2], [1, 2, 2], [1, 2, 2]], halos=[[1, 2, 2], [1, 2, 2], [1, 2, 2], [1, 2, 2]], dtype=None, int_to_uint=False, metadata_format=bdv.n5, metadata_dict={\"resolution\": [1.0, 454, 454], \"unit\": \"nanometer\", \"setup_name\": \"overview\"}, output_path=mobie-project-01/data\\LM-dataset\\images\\bdv-n5\\overview.n5, output_key_prefix=, force_copy=False, skip_existing_levels=False, scale_offset=0) is complete\n",
      "DEBUG: Checking if WriteDownscalingMetadata(tmp_folder=tmp_LM-dataset_overview, output_path=mobie-project-01/data\\LM-dataset\\images\\bdv-n5\\overview.n5, scale_factors=[[1, 2, 2], [1, 2, 2], [1, 2, 2], [1, 2, 2]], dependency=DownscalingLocal, metadata_format=bdv.n5, metadata_dict={\"resolution\": [1.0, 454, 454], \"unit\": \"nanometer\", \"setup_name\": \"overview\"}, output_key_prefix=, scale_offset=0, prefix=downscaling) is complete\n",
      "INFO: Informed scheduler that task   DownscalingWorkflow_tmp_LM_dataset_o_DummyTask_None_4e9f017379   has status   PENDING\n",
      "DEBUG: Checking if DownscalingLocal(tmp_folder=tmp_LM-dataset_overview, max_jobs=4, config_dir=tmp_LM-dataset_overview\\configs, input_path=mobie-project-01/data\\LM-dataset\\images\\bdv-n5\\overview.n5, input_key=setup0/timepoint0/s3, output_path=mobie-project-01/data\\LM-dataset\\images\\bdv-n5\\overview.n5, output_key=setup0/timepoint0/s4, scale_factor=(1, 2, 2), scale_prefix=s4, halo=[1, 2, 2], effective_scale_factor=[1, 16, 16], dimension_separator=None, dependency=DownscalingLocal) is complete\n",
      "INFO: Informed scheduler that task   WriteDownscalingMetadata_DownscalingLocal___resolution_____bdv_n5_3aa6448bcb   has status   PENDING\n",
      "DEBUG: Checking if DownscalingLocal(tmp_folder=tmp_LM-dataset_overview, max_jobs=4, config_dir=tmp_LM-dataset_overview\\configs, input_path=mobie-project-01/data\\LM-dataset\\images\\bdv-n5\\overview.n5, input_key=setup0/timepoint0/s2, output_path=mobie-project-01/data\\LM-dataset\\images\\bdv-n5\\overview.n5, output_key=setup0/timepoint0/s3, scale_factor=(1, 2, 2), scale_prefix=s3, halo=[1, 2, 2], effective_scale_factor=[1, 8, 8], dimension_separator=None, dependency=DownscalingLocal) is complete\n",
      "INFO: Informed scheduler that task   DownscalingLocal_tmp_LM_dataset_o_DownscalingLocal_None_1220fd6f39   has status   PENDING\n",
      "DEBUG: Checking if DownscalingLocal(tmp_folder=tmp_LM-dataset_overview, max_jobs=4, config_dir=tmp_LM-dataset_overview\\configs, input_path=mobie-project-01/data\\LM-dataset\\images\\bdv-n5\\overview.n5, input_key=setup0/timepoint0/s1, output_path=mobie-project-01/data\\LM-dataset\\images\\bdv-n5\\overview.n5, output_key=setup0/timepoint0/s2, scale_factor=(1, 2, 2), scale_prefix=s2, halo=[1, 2, 2], effective_scale_factor=[1, 4, 4], dimension_separator=None, dependency=DownscalingLocal) is complete\n",
      "INFO: Informed scheduler that task   DownscalingLocal_tmp_LM_dataset_o_DownscalingLocal_None_ebe74c254a   has status   PENDING\n",
      "DEBUG: Checking if DownscalingLocal(tmp_folder=tmp_LM-dataset_overview, max_jobs=4, config_dir=tmp_LM-dataset_overview\\configs, input_path=mobie-project-01/data\\LM-dataset\\images\\bdv-n5\\overview.n5, input_key=setup0/timepoint0/s0, output_path=mobie-project-01/data\\LM-dataset\\images\\bdv-n5\\overview.n5, output_key=setup0/timepoint0/s1, scale_factor=(1, 2, 2), scale_prefix=s1, halo=[1, 2, 2], effective_scale_factor=[1, 2, 2], dimension_separator=None, dependency=CopyVolumeLocal) is complete\n",
      "INFO: Informed scheduler that task   DownscalingLocal_tmp_LM_dataset_o_DownscalingLocal_None_ab8dd2fb68   has status   PENDING\n",
      "DEBUG: Checking if CopyVolumeLocal(tmp_folder=tmp_LM-dataset_overview, max_jobs=4, config_dir=tmp_LM-dataset_overview\\configs, input_path=tmp_LM-dataset_overview\\tmp_blobs.ome.h5, input_key=data, output_path=mobie-project-01/data\\LM-dataset\\images\\bdv-n5\\overview.n5, output_key=setup0/timepoint0/s0, prefix=initial_scale, dtype=None, int_to_uint=False, fit_to_roi=False, effective_scale_factor=[], dimension_separator=None, dependency=DummyTask) is complete\n",
      "INFO: Informed scheduler that task   DownscalingLocal_tmp_LM_dataset_o_CopyVolumeLocal_None_aae3632193   has status   PENDING\n",
      "DEBUG: Checking if DummyTask() is complete\n",
      "INFO: Informed scheduler that task   CopyVolumeLocal_tmp_LM_dataset_o_DummyTask_None_3c1c6da4ba   has status   PENDING\n",
      "INFO: Informed scheduler that task   DummyTask__99914b932b   has status   DONE\n",
      "INFO: Done scheduling tasks\n",
      "INFO: Running Worker with 1 processes\n",
      "DEBUG: Asking scheduler for work...\n",
      "DEBUG: Pending tasks: 7\n",
      "INFO: [pid 13204] Worker Worker(salt=610257424, workers=1, host=DESKTOP-T2QV97M, username=xcamra, pid=13204) running   CopyVolumeLocal(tmp_folder=tmp_LM-dataset_overview, max_jobs=4, config_dir=tmp_LM-dataset_overview\\configs, input_path=tmp_LM-dataset_overview\\tmp_blobs.ome.h5, input_key=data, output_path=mobie-project-01/data\\LM-dataset\\images\\bdv-n5\\overview.n5, output_key=setup0/timepoint0/s0, prefix=initial_scale, dtype=None, int_to_uint=False, fit_to_roi=False, effective_scale_factor=[], dimension_separator=None, dependency=DummyTask)\n",
      "INFO: [pid 13204] Worker Worker(salt=610257424, workers=1, host=DESKTOP-T2QV97M, username=xcamra, pid=13204) done      CopyVolumeLocal(tmp_folder=tmp_LM-dataset_overview, max_jobs=4, config_dir=tmp_LM-dataset_overview\\configs, input_path=tmp_LM-dataset_overview\\tmp_blobs.ome.h5, input_key=data, output_path=mobie-project-01/data\\LM-dataset\\images\\bdv-n5\\overview.n5, output_key=setup0/timepoint0/s0, prefix=initial_scale, dtype=None, int_to_uint=False, fit_to_roi=False, effective_scale_factor=[], dimension_separator=None, dependency=DummyTask)\n",
      "DEBUG: 1 running tasks, waiting for next task to finish\n",
      "INFO: Informed scheduler that task   CopyVolumeLocal_tmp_LM_dataset_o_DummyTask_None_3c1c6da4ba   has status   DONE\n",
      "DEBUG: Asking scheduler for work...\n",
      "DEBUG: Pending tasks: 6\n",
      "INFO: [pid 13204] Worker Worker(salt=610257424, workers=1, host=DESKTOP-T2QV97M, username=xcamra, pid=13204) running   DownscalingLocal(tmp_folder=tmp_LM-dataset_overview, max_jobs=4, config_dir=tmp_LM-dataset_overview\\configs, input_path=mobie-project-01/data\\LM-dataset\\images\\bdv-n5\\overview.n5, input_key=setup0/timepoint0/s0, output_path=mobie-project-01/data\\LM-dataset\\images\\bdv-n5\\overview.n5, output_key=setup0/timepoint0/s1, scale_factor=(1, 2, 2), scale_prefix=s1, halo=[1, 2, 2], effective_scale_factor=[1, 2, 2], dimension_separator=None, dependency=CopyVolumeLocal)\n",
      "INFO: [pid 13204] Worker Worker(salt=610257424, workers=1, host=DESKTOP-T2QV97M, username=xcamra, pid=13204) done      DownscalingLocal(tmp_folder=tmp_LM-dataset_overview, max_jobs=4, config_dir=tmp_LM-dataset_overview\\configs, input_path=mobie-project-01/data\\LM-dataset\\images\\bdv-n5\\overview.n5, input_key=setup0/timepoint0/s0, output_path=mobie-project-01/data\\LM-dataset\\images\\bdv-n5\\overview.n5, output_key=setup0/timepoint0/s1, scale_factor=(1, 2, 2), scale_prefix=s1, halo=[1, 2, 2], effective_scale_factor=[1, 2, 2], dimension_separator=None, dependency=CopyVolumeLocal)\n",
      "DEBUG: 1 running tasks, waiting for next task to finish\n",
      "INFO: Informed scheduler that task   DownscalingLocal_tmp_LM_dataset_o_CopyVolumeLocal_None_aae3632193   has status   DONE\n",
      "DEBUG: Asking scheduler for work...\n",
      "DEBUG: Pending tasks: 5\n",
      "INFO: [pid 13204] Worker Worker(salt=610257424, workers=1, host=DESKTOP-T2QV97M, username=xcamra, pid=13204) running   DownscalingLocal(tmp_folder=tmp_LM-dataset_overview, max_jobs=4, config_dir=tmp_LM-dataset_overview\\configs, input_path=mobie-project-01/data\\LM-dataset\\images\\bdv-n5\\overview.n5, input_key=setup0/timepoint0/s1, output_path=mobie-project-01/data\\LM-dataset\\images\\bdv-n5\\overview.n5, output_key=setup0/timepoint0/s2, scale_factor=(1, 2, 2), scale_prefix=s2, halo=[1, 2, 2], effective_scale_factor=[1, 4, 4], dimension_separator=None, dependency=DownscalingLocal)\n",
      "INFO: [pid 13204] Worker Worker(salt=610257424, workers=1, host=DESKTOP-T2QV97M, username=xcamra, pid=13204) done      DownscalingLocal(tmp_folder=tmp_LM-dataset_overview, max_jobs=4, config_dir=tmp_LM-dataset_overview\\configs, input_path=mobie-project-01/data\\LM-dataset\\images\\bdv-n5\\overview.n5, input_key=setup0/timepoint0/s1, output_path=mobie-project-01/data\\LM-dataset\\images\\bdv-n5\\overview.n5, output_key=setup0/timepoint0/s2, scale_factor=(1, 2, 2), scale_prefix=s2, halo=[1, 2, 2], effective_scale_factor=[1, 4, 4], dimension_separator=None, dependency=DownscalingLocal)\n",
      "DEBUG: 1 running tasks, waiting for next task to finish\n",
      "INFO: Informed scheduler that task   DownscalingLocal_tmp_LM_dataset_o_DownscalingLocal_None_ab8dd2fb68   has status   DONE\n",
      "DEBUG: Asking scheduler for work...\n",
      "DEBUG: Pending tasks: 4\n",
      "INFO: [pid 13204] Worker Worker(salt=610257424, workers=1, host=DESKTOP-T2QV97M, username=xcamra, pid=13204) running   DownscalingLocal(tmp_folder=tmp_LM-dataset_overview, max_jobs=4, config_dir=tmp_LM-dataset_overview\\configs, input_path=mobie-project-01/data\\LM-dataset\\images\\bdv-n5\\overview.n5, input_key=setup0/timepoint0/s2, output_path=mobie-project-01/data\\LM-dataset\\images\\bdv-n5\\overview.n5, output_key=setup0/timepoint0/s3, scale_factor=(1, 2, 2), scale_prefix=s3, halo=[1, 2, 2], effective_scale_factor=[1, 8, 8], dimension_separator=None, dependency=DownscalingLocal)\n",
      "INFO: [pid 13204] Worker Worker(salt=610257424, workers=1, host=DESKTOP-T2QV97M, username=xcamra, pid=13204) done      DownscalingLocal(tmp_folder=tmp_LM-dataset_overview, max_jobs=4, config_dir=tmp_LM-dataset_overview\\configs, input_path=mobie-project-01/data\\LM-dataset\\images\\bdv-n5\\overview.n5, input_key=setup0/timepoint0/s2, output_path=mobie-project-01/data\\LM-dataset\\images\\bdv-n5\\overview.n5, output_key=setup0/timepoint0/s3, scale_factor=(1, 2, 2), scale_prefix=s3, halo=[1, 2, 2], effective_scale_factor=[1, 8, 8], dimension_separator=None, dependency=DownscalingLocal)\n",
      "DEBUG: 1 running tasks, waiting for next task to finish\n",
      "INFO: Informed scheduler that task   DownscalingLocal_tmp_LM_dataset_o_DownscalingLocal_None_ebe74c254a   has status   DONE\n",
      "DEBUG: Asking scheduler for work...\n",
      "DEBUG: Pending tasks: 3\n",
      "INFO: [pid 13204] Worker Worker(salt=610257424, workers=1, host=DESKTOP-T2QV97M, username=xcamra, pid=13204) running   DownscalingLocal(tmp_folder=tmp_LM-dataset_overview, max_jobs=4, config_dir=tmp_LM-dataset_overview\\configs, input_path=mobie-project-01/data\\LM-dataset\\images\\bdv-n5\\overview.n5, input_key=setup0/timepoint0/s3, output_path=mobie-project-01/data\\LM-dataset\\images\\bdv-n5\\overview.n5, output_key=setup0/timepoint0/s4, scale_factor=(1, 2, 2), scale_prefix=s4, halo=[1, 2, 2], effective_scale_factor=[1, 16, 16], dimension_separator=None, dependency=DownscalingLocal)\n",
      "INFO: [pid 13204] Worker Worker(salt=610257424, workers=1, host=DESKTOP-T2QV97M, username=xcamra, pid=13204) done      DownscalingLocal(tmp_folder=tmp_LM-dataset_overview, max_jobs=4, config_dir=tmp_LM-dataset_overview\\configs, input_path=mobie-project-01/data\\LM-dataset\\images\\bdv-n5\\overview.n5, input_key=setup0/timepoint0/s3, output_path=mobie-project-01/data\\LM-dataset\\images\\bdv-n5\\overview.n5, output_key=setup0/timepoint0/s4, scale_factor=(1, 2, 2), scale_prefix=s4, halo=[1, 2, 2], effective_scale_factor=[1, 16, 16], dimension_separator=None, dependency=DownscalingLocal)\n",
      "DEBUG: 1 running tasks, waiting for next task to finish\n",
      "INFO: Informed scheduler that task   DownscalingLocal_tmp_LM_dataset_o_DownscalingLocal_None_1220fd6f39   has status   DONE\n",
      "DEBUG: Asking scheduler for work...\n",
      "DEBUG: Pending tasks: 2\n",
      "INFO: [pid 13204] Worker Worker(salt=610257424, workers=1, host=DESKTOP-T2QV97M, username=xcamra, pid=13204) running   WriteDownscalingMetadata(tmp_folder=tmp_LM-dataset_overview, output_path=mobie-project-01/data\\LM-dataset\\images\\bdv-n5\\overview.n5, scale_factors=[[1, 2, 2], [1, 2, 2], [1, 2, 2], [1, 2, 2]], dependency=DownscalingLocal, metadata_format=bdv.n5, metadata_dict={\"resolution\": [1.0, 454, 454], \"unit\": \"nanometer\", \"setup_name\": \"overview\"}, output_key_prefix=, scale_offset=0, prefix=downscaling)\n",
      "INFO: [pid 13204] Worker Worker(salt=610257424, workers=1, host=DESKTOP-T2QV97M, username=xcamra, pid=13204) done      WriteDownscalingMetadata(tmp_folder=tmp_LM-dataset_overview, output_path=mobie-project-01/data\\LM-dataset\\images\\bdv-n5\\overview.n5, scale_factors=[[1, 2, 2], [1, 2, 2], [1, 2, 2], [1, 2, 2]], dependency=DownscalingLocal, metadata_format=bdv.n5, metadata_dict={\"resolution\": [1.0, 454, 454], \"unit\": \"nanometer\", \"setup_name\": \"overview\"}, output_key_prefix=, scale_offset=0, prefix=downscaling)\n",
      "DEBUG: 1 running tasks, waiting for next task to finish\n",
      "INFO: Informed scheduler that task   WriteDownscalingMetadata_DownscalingLocal___resolution_____bdv_n5_3aa6448bcb   has status   DONE\n",
      "DEBUG: Asking scheduler for work...\n",
      "DEBUG: Pending tasks: 1\n",
      "INFO: [pid 13204] Worker Worker(salt=610257424, workers=1, host=DESKTOP-T2QV97M, username=xcamra, pid=13204) running   DownscalingWorkflow(tmp_folder=tmp_LM-dataset_overview, max_jobs=4, config_dir=tmp_LM-dataset_overview\\configs, target=local, dependency=DummyTask, input_path=tmp_LM-dataset_overview\\tmp_blobs.ome.h5, input_key=data, scale_factors=[[1, 2, 2], [1, 2, 2], [1, 2, 2], [1, 2, 2]], halos=[[1, 2, 2], [1, 2, 2], [1, 2, 2], [1, 2, 2]], dtype=None, int_to_uint=False, metadata_format=bdv.n5, metadata_dict={\"resolution\": [1.0, 454, 454], \"unit\": \"nanometer\", \"setup_name\": \"overview\"}, output_path=mobie-project-01/data\\LM-dataset\\images\\bdv-n5\\overview.n5, output_key_prefix=, force_copy=False, skip_existing_levels=False, scale_offset=0)\n",
      "INFO: [pid 13204] Worker Worker(salt=610257424, workers=1, host=DESKTOP-T2QV97M, username=xcamra, pid=13204) done      DownscalingWorkflow(tmp_folder=tmp_LM-dataset_overview, max_jobs=4, config_dir=tmp_LM-dataset_overview\\configs, target=local, dependency=DummyTask, input_path=tmp_LM-dataset_overview\\tmp_blobs.ome.h5, input_key=data, scale_factors=[[1, 2, 2], [1, 2, 2], [1, 2, 2], [1, 2, 2]], halos=[[1, 2, 2], [1, 2, 2], [1, 2, 2], [1, 2, 2]], dtype=None, int_to_uint=False, metadata_format=bdv.n5, metadata_dict={\"resolution\": [1.0, 454, 454], \"unit\": \"nanometer\", \"setup_name\": \"overview\"}, output_path=mobie-project-01/data\\LM-dataset\\images\\bdv-n5\\overview.n5, output_key_prefix=, force_copy=False, skip_existing_levels=False, scale_offset=0)\n",
      "DEBUG: 1 running tasks, waiting for next task to finish\n",
      "INFO: Informed scheduler that task   DownscalingWorkflow_tmp_LM_dataset_o_DummyTask_None_4e9f017379   has status   DONE\n",
      "DEBUG: Asking scheduler for work...\n",
      "DEBUG: Done\n",
      "DEBUG: There are no more tasks to run at this time\n",
      "INFO: Worker Worker(salt=610257424, workers=1, host=DESKTOP-T2QV97M, username=xcamra, pid=13204) was stopped. Shutting down Keep-Alive thread\n",
      "INFO: \n",
      "===== Luigi Execution Summary =====\n",
      "\n",
      "Scheduled 8 tasks of which:\n",
      "* 1 complete ones were encountered:\n",
      "    - 1 DummyTask()\n",
      "* 7 ran successfully:\n",
      "    - 1 CopyVolumeLocal(...)\n",
      "    - 4 DownscalingLocal(...)\n",
      "    - 1 DownscalingWorkflow(...)\n",
      "    - 1 WriteDownscalingMetadata(...)\n",
      "\n",
      "This progress looks :) because there were no failed tasks or missing dependencies\n",
      "\n",
      "===== Luigi Execution Summary =====\n",
      "\n"
     ]
    }
   ],
   "source": [
    "input_data_path = \"data\"\n",
    "# The 'default' image for our example dataset is a 2d EM slice showing an overview of the dataset.\n",
    "input_file = os.path.join(input_data_path, \"blobs.ome.tif\")\n",
    "\n",
    "# This is the name that will be given to the image source in mobie.\n",
    "raw_name = \"overview\"\n",
    "# The name of the menu from which the image can be added to the viewer.\n",
    "# Here, we choose \"em\", because this is an EM image slice.\n",
    "menu_name = \"lm\"\n",
    "\n",
    "# We need some metadata to create the n5-file in big-data-viewer format:\n",
    "# - unit: the phyiscal unit of the coordinate system\n",
    "# - resolution: the size of one voxel in the physical unit, this needs to be a tuple/list of length 3,\n",
    "#               specifying the size for each of the 3 spatial dimensions\n",
    "# - chunks: the size of the chunks (in voxels) that are used to store the output file.\n",
    "#           good choices are usually (1, 512, 512) for 2d data and (64, 64, 64) for 3d data\n",
    "# - scale_factors: the scale factors used for downsampling the input when creating the image pyramid\n",
    "#                  this needs to be a list, where each entry specifies the scale factors for the 3 axes.\n",
    "# Note that axes are listed in the order ZYX for the resolution, chunks and scale factors\n",
    "# (in the java implementation of mobie / big-data-viewer the axis convention is XYZ).\n",
    "# Also note that the values for all three axes (ZYX) need to be specified. In the case of 2d data, the value\n",
    "# for Z should be set to 1.\n",
    "unit = \"nanometer\"\n",
    "resolution = (1., 454, 454)\n",
    "chunks = (1, 64, 64)\n",
    "scale_factors = 4*[[1, 2, 2]]\n",
    "\n",
    "mobie.add_image(\n",
    "    input_path=input_file, \n",
    "    input_key='',  # the input is a single tif image, so we leave input_key blank\n",
    "    root=mobie_project_folder,\n",
    "    dataset_name=dataset_name,\n",
    "    image_name=raw_name,\n",
    "    menu_name=menu_name,\n",
    "    resolution=resolution,\n",
    "    chunks=chunks,\n",
    "    scale_factors=scale_factors,\n",
    "    is_default_dataset=True,  # mark this dataset as the default dataset that will be loaded by mobie\n",
    "    target=target,\n",
    "    max_jobs=max_jobs,\n",
    "    unit=unit,\n",
    "    file_format=\"bdv.n5\"#\"ome.zarr\"\n",
    ")"
   ]
  },
  {
   "cell_type": "code",
   "execution_count": 13,
   "metadata": {},
   "outputs": [],
   "source": [
    "meta = mobie.metadata.read_dataset_metadata(dataset_folder)"
   ]
  },
  {
   "cell_type": "code",
   "execution_count": 14,
   "metadata": {},
   "outputs": [
    {
     "data": {
      "text/plain": [
       "False"
      ]
     },
     "execution_count": 14,
     "metadata": {},
     "output_type": "execute_result"
    }
   ],
   "source": [
    "meta[\"is2D\"]"
   ]
  },
  {
   "cell_type": "code",
   "execution_count": 15,
   "metadata": {},
   "outputs": [],
   "source": [
    "meta[\"is2D\"] = True\n",
    "mobie.metadata.write_dataset_metadata(dataset_folder, meta)"
   ]
  }
 ],
 "metadata": {
  "kernelspec": {
   "display_name": "mobie2-env",
   "language": "python",
   "name": "python3"
  },
  "language_info": {
   "codemirror_mode": {
    "name": "ipython",
    "version": 3
   },
   "file_extension": ".py",
   "mimetype": "text/x-python",
   "name": "python",
   "nbconvert_exporter": "python",
   "pygments_lexer": "ipython3",
   "version": "3.9.16"
  },
  "orig_nbformat": 4,
  "vscode": {
   "interpreter": {
    "hash": "fb186d2f309bc00557b4f8909d5e887a9afffb683d5e77157fbe4b0332985f5b"
   }
  }
 },
 "nbformat": 4,
 "nbformat_minor": 2
}
